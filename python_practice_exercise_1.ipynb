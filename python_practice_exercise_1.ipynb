{
  "nbformat": 4,
  "nbformat_minor": 0,
  "metadata": {
    "colab": {
      "provenance": []
    },
    "kernelspec": {
      "name": "python3",
      "display_name": "Python 3"
    },
    "language_info": {
      "name": "python"
    }
  },
  "cells": [
    {
      "cell_type": "markdown",
      "source": [
        "PRACTICE EXERCISES ON PYTHON BASICS"
      ],
      "metadata": {
        "id": "z_mFxKui587q"
      }
    },
    {
      "cell_type": "markdown",
      "source": [
        "1) Write a Python program which accepts the radius of a circle from the user\n",
        "and compute the area.\n",
        "Sample input: Enter the radius: 3\n",
        "Sample output: Area of Circle is 28.59999999999"
      ],
      "metadata": {
        "id": "MVREWHn67eW5"
      }
    },
    {
      "cell_type": "code",
      "source": [
        "import math\n",
        "\n",
        "radius = float(input(\"Enter the radius: \"))\n",
        "area = math.pi * radius ** 2\n",
        "\n",
        "# Round the area to 11 decimal places\n",
        "rounded_area = round(area, 11)\n",
        "\n",
        "print(\"Area of Circle is\", rounded_area)\n"
      ],
      "metadata": {
        "colab": {
          "base_uri": "https://localhost:8080/"
        },
        "id": "E2fJNoM0CYIA",
        "outputId": "5b754d71-e01c-4e39-885d-12b7f8b1e2c1"
      },
      "execution_count": null,
      "outputs": [
        {
          "output_type": "stream",
          "name": "stdout",
          "text": [
            "Enter the radius: 3\n",
            "Area of Circle is 28.27433388231\n"
          ]
        }
      ]
    },
    {
      "cell_type": "markdown",
      "source": [
        "\n",
        "2) Write a Python Program to accept the details of a student like name, roll\n",
        "number and mark and display it.\n",
        "\n",
        "Sample input: Enter the name: Anisha\n",
        "\n",
        "Enter the roll number: 21\n",
        "\n",
        "Enter the mark: 78\n",
        "\n",
        "Sample output: Name: Anisha\n",
        "\n",
        "Roll No: 21\n",
        "\n",
        "Mark: 78\n"
      ],
      "metadata": {
        "id": "TGKsjiEE57VG"
      }
    },
    {
      "cell_type": "code",
      "source": [
        "name = input(\"Enter the name: \")\n",
        "roll_number = input(\"Enter the roll number: \")\n",
        "mark = input(\"Enter the mark: \")\n",
        "\n",
        "print(\"Name:\", name)\n",
        "print(\"Roll No:\", roll_number)\n",
        "print(\"Mark:\", mark)\n"
      ],
      "metadata": {
        "colab": {
          "base_uri": "https://localhost:8080/"
        },
        "id": "89C5zQjA7bSe",
        "outputId": "9318a1ee-a476-4fae-c3a8-284ebda51990"
      },
      "execution_count": null,
      "outputs": [
        {
          "output_type": "stream",
          "name": "stdout",
          "text": [
            "Enter the name: Anisha\n",
            "Enter the roll number: 21\n",
            "Enter the mark: 78\n",
            "Name: Anisha\n",
            "Roll No: 21\n",
            "Mark: 78\n"
          ]
        }
      ]
    },
    {
      "cell_type": "markdown",
      "source": [
        "\n",
        "3) Write a Python program to get the largest number from a list.\n",
        "\n",
        "Sample input: 12, 3, 47, 10\n",
        "\n",
        "Sample output: 47 is the largest number.\n"
      ],
      "metadata": {
        "id": "8Cbh8SQUEPAm"
      }
    },
    {
      "cell_type": "code",
      "source": [
        "list1 = [12,3,47,10]\n",
        "print(max(list1), \"is the largest number\")"
      ],
      "metadata": {
        "colab": {
          "base_uri": "https://localhost:8080/"
        },
        "id": "4Fy1WgtIEgKH",
        "outputId": "c8afbda4-5b54-43c5-e54f-21748a861d8e"
      },
      "execution_count": null,
      "outputs": [
        {
          "output_type": "stream",
          "name": "stdout",
          "text": [
            "47 is the largest number\n"
          ]
        }
      ]
    },
    {
      "cell_type": "code",
      "source": [
        "list1 = []\n",
        "n = int(input(\"Enter number of elements in list: \"))\n",
        "for i in range(1,n+1):\n",
        "  num = int(input(\"\"))\n",
        "  list1.append(num)\n",
        "print(max(list1), \"is the largest number\")"
      ],
      "metadata": {
        "colab": {
          "base_uri": "https://localhost:8080/"
        },
        "id": "YIcW-T-8IIKT",
        "outputId": "b6a7e753-9eed-49c3-8ee0-b6bff7f98e58"
      },
      "execution_count": null,
      "outputs": [
        {
          "output_type": "stream",
          "name": "stdout",
          "text": [
            "Enter number of elements in list: 4\n",
            "12\n",
            "3\n",
            "47\n",
            "10\n",
            "47 is the largest number\n"
          ]
        }
      ]
    },
    {
      "cell_type": "markdown",
      "source": [
        "4) Given a range of first 10 numbers, write a Python program to iterate from\n",
        "start number to the end number and print the sum of the current number\n",
        "and previous number.\n",
        "\n",
        "Sample input: 1….10\n",
        "\n",
        "Sample output: Current Number 1 Previous Number 0 Sum: 1 Current\n",
        "Number 2 Previous Number 1 Sum: 3 Current Number 3 Previous\n",
        "Number 2 Sum: 5… Current Number 10 Previous Number 9 Sum: 19"
      ],
      "metadata": {
        "id": "VUPupioHKTrW"
      }
    },
    {
      "cell_type": "code",
      "source": [
        "for current_num in range(1, 11):\n",
        "    previous_num = current_num - 1\n",
        "\n",
        "    print(\"Current Number\" , current_num,enf)\n",
        "    print(\"Previous Number\", previous_num)\n",
        "    print(\"Sum:\", current_num + previous_num)\n"
      ],
      "metadata": {
        "colab": {
          "base_uri": "https://localhost:8080/"
        },
        "id": "i4VgRb_aKv9U",
        "outputId": "ef665552-fc74-4246-8759-6cb3593965f0"
      },
      "execution_count": null,
      "outputs": [
        {
          "output_type": "stream",
          "name": "stdout",
          "text": [
            "Current Number 1\n",
            "Previous Number 0\n",
            "Sum: 1\n",
            "Current Number 2\n",
            "Previous Number 1\n",
            "Sum: 3\n",
            "Current Number 3\n",
            "Previous Number 2\n",
            "Sum: 5\n",
            "Current Number 4\n",
            "Previous Number 3\n",
            "Sum: 7\n",
            "Current Number 5\n",
            "Previous Number 4\n",
            "Sum: 9\n",
            "Current Number 6\n",
            "Previous Number 5\n",
            "Sum: 11\n",
            "Current Number 7\n",
            "Previous Number 6\n",
            "Sum: 13\n",
            "Current Number 8\n",
            "Previous Number 7\n",
            "Sum: 15\n",
            "Current Number 9\n",
            "Previous Number 8\n",
            "Sum: 17\n",
            "Current Number 10\n",
            "Previous Number 9\n",
            "Sum: 19\n"
          ]
        }
      ]
    },
    {
      "cell_type": "markdown",
      "source": [
        "\n",
        "5) Write a Python program to print only those numbers which are divisible\n",
        "of 5.\n",
        "\n",
        "Sample input: 10, 20,33,46,55  \n",
        " Sample output: 10, 20, 55"
      ],
      "metadata": {
        "id": "ABciCINvNLWc"
      }
    },
    {
      "cell_type": "code",
      "source": [
        "num_list = [10, 20, 33, 46, 55]\n",
        "print(\"Given list:\", num_list)\n",
        "print('Divisible by 5:')\n",
        "for num in num_list:\n",
        "    if num % 5 == 0:\n",
        "        print(num)\n"
      ],
      "metadata": {
        "colab": {
          "base_uri": "https://localhost:8080/"
        },
        "id": "eaS5QlgQTy5u",
        "outputId": "a106d754-12bd-48b7-8fe5-e3a452a9d6dc"
      },
      "execution_count": null,
      "outputs": [
        {
          "output_type": "stream",
          "name": "stdout",
          "text": [
            "Given list: [10, 20, 33, 46, 55]\n",
            "Divisible by 5:\n",
            "10\n",
            "20\n",
            "55\n"
          ]
        }
      ]
    },
    {
      "cell_type": "markdown",
      "source": [
        "\n",
        "6) Write a Python program to check whether a number is prime or not.\n",
        "\n",
        "Sample input: Enter the number: 3\n",
        "\n",
        "Sample output: 3 is a prime number."
      ],
      "metadata": {
        "id": "OQoOvx9SXfqr"
      }
    },
    {
      "cell_type": "code",
      "source": [
        "num = int(input(\"Enter the number: \"))\n",
        "if num > 1:\n",
        "    for i in range(2, num):\n",
        "        if (num % i) == 0:\n",
        "            print(num, \"is not a prime number\")\n",
        "            break\n",
        "    else:\n",
        "        print(num, \"is a prime number\")\n",
        "else:\n",
        "    print(num, \"is not a prime number\")"
      ],
      "metadata": {
        "colab": {
          "base_uri": "https://localhost:8080/"
        },
        "id": "FsFiwL9kXtFf",
        "outputId": "c60e7b36-f69d-489c-e1bb-8d5ee59614ff"
      },
      "execution_count": null,
      "outputs": [
        {
          "output_type": "stream",
          "name": "stdout",
          "text": [
            "Enter the number: 3\n",
            "3 is a prime number\n"
          ]
        }
      ]
    },
    {
      "cell_type": "markdown",
      "source": [
        "\n",
        "7) Write a Python program to reverse a list using for loop.\n",
        "\n",
        "Sample input: 10,40,30,70\n",
        "\n",
        "Sample output: 70,30,40,10"
      ],
      "metadata": {
        "id": "xAJC1Xu3bvig"
      }
    },
    {
      "cell_type": "code",
      "source": [
        "original_list = [10, 40, 30, 70]\n",
        "print(\"Original list : \",original_list)\n",
        "reversed_list = []\n",
        "for value in original_list:\n",
        "  reversed_list = [value] + reversed_list\n",
        "print(\"Reversed list : \", reversed_list)"
      ],
      "metadata": {
        "colab": {
          "base_uri": "https://localhost:8080/"
        },
        "id": "Hx8ktn2Nbu_p",
        "outputId": "5cf295c7-5cfe-4480-b1be-b26000cb90df"
      },
      "execution_count": null,
      "outputs": [
        {
          "output_type": "stream",
          "name": "stdout",
          "text": [
            "Original list :  [10, 40, 30, 70]\n",
            "Reversed list :  [70, 30, 40, 10]\n"
          ]
        }
      ]
    },
    {
      "cell_type": "markdown",
      "source": [
        "\n",
        "8)Write a Python program to print the following pattern."
      ],
      "metadata": {
        "id": "OtF7yR-Hi_BK"
      }
    },
    {
      "cell_type": "code",
      "source": [
        "n = 4\n",
        "\n",
        "# Outer loop for each row\n",
        "for i in range(0, n):\n",
        "    # Inner loop for each column in the current row\n",
        "    for j in range(0,i+1):\n",
        "        print(\"*\", end=\"\")\n",
        "\n",
        "    print()\n"
      ],
      "metadata": {
        "colab": {
          "base_uri": "https://localhost:8080/"
        },
        "id": "6ubrVkQ2g96R",
        "outputId": "c248f8d0-4cc7-450f-84f8-9d7352df4d57"
      },
      "execution_count": null,
      "outputs": [
        {
          "output_type": "stream",
          "name": "stdout",
          "text": [
            "*\n",
            "**\n",
            "***\n",
            "****\n"
          ]
        }
      ]
    },
    {
      "cell_type": "markdown",
      "source": [
        "\n",
        "9) Write a Python program to find the maximum of three numbers\n",
        "\n",
        "Sample input: 34,12,7\n",
        "\n",
        "Sample output: 34"
      ],
      "metadata": {
        "id": "6ng9v8kLjZKj"
      }
    },
    {
      "cell_type": "code",
      "source": [
        "\n",
        "num1 = int(input(\"Enter the first number: \"))\n",
        "num2 = int(input(\"Enter the second number: \"))\n",
        "num3 = int(input(\"Enter the third number: \"))\n",
        "\n",
        "maximum_number = max(num1, num2, num3)\n",
        "\n",
        "print(\"The maximum of the numbers is:\", maximum_number)\n"
      ],
      "metadata": {
        "colab": {
          "base_uri": "https://localhost:8080/"
        },
        "id": "YMR6DnVEjlfV",
        "outputId": "1af3ebb7-2ad2-4e77-9d0c-95323f2a92ea"
      },
      "execution_count": null,
      "outputs": [
        {
          "output_type": "stream",
          "name": "stdout",
          "text": [
            "Enter the first number: 34\n",
            "Enter the second number: 12\n",
            "Enter the third number: 7\n",
            "The maximum of the numbers is: 34\n"
          ]
        }
      ]
    },
    {
      "cell_type": "markdown",
      "source": [
        "10) Write a Python program to construct the following pattern, using a\n",
        "nested for loop"
      ],
      "metadata": {
        "id": "0aXgvpLrkssr"
      }
    },
    {
      "cell_type": "code",
      "source": [
        "n = 5\n",
        "\n",
        "# Upper part of the pattern\n",
        "for i in range(n):\n",
        "    for j in range(i):\n",
        "        print(\"*\", end=\"\")\n",
        "    print()\n",
        "\n",
        "# Lower part of the pattern\n",
        "for i in range(n, 0, -1):\n",
        "    for j in range(i):\n",
        "        print(\"*\", end=\"\")\n",
        "    print()\n",
        "\n"
      ],
      "metadata": {
        "colab": {
          "base_uri": "https://localhost:8080/"
        },
        "outputId": "f18a4784-0595-4803-b67f-19ff33a06ed0",
        "id": "W-sm4k2WlZrx"
      },
      "execution_count": null,
      "outputs": [
        {
          "output_type": "stream",
          "name": "stdout",
          "text": [
            "\n",
            "*\n",
            "**\n",
            "***\n",
            "****\n",
            "*****\n",
            "****\n",
            "***\n",
            "**\n",
            "*\n"
          ]
        }
      ]
    }
  ]
}