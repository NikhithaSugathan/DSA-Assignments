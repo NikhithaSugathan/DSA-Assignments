{
  "nbformat": 4,
  "nbformat_minor": 0,
  "metadata": {
    "colab": {
      "provenance": []
    },
    "kernelspec": {
      "name": "python3",
      "display_name": "Python 3"
    },
    "language_info": {
      "name": "python"
    }
  },
  "cells": [
    {
      "cell_type": "markdown",
      "source": [
        "PRACTICE EXERCISES ON PYTHON BASICS -2"
      ],
      "metadata": {
        "id": "Y2Jl-4WXUSAj"
      }
    },
    {
      "cell_type": "markdown",
      "source": [
        "1) Write a Python program to accept a string value from the user and display\n",
        "the count of each character in that string.\n",
        " Sample input: Enter a string\n",
        "value: assembly Sample output: a=1, s=2, e=1, m=1, b=1, l=1, y=1"
      ],
      "metadata": {
        "id": "4WGIFuT1UXH_"
      }
    },
    {
      "cell_type": "code",
      "source": [
        "\n",
        "input_string = input(\"Enter a string value: \")\n",
        "char_count = []\n",
        "\n",
        "for char in input_string:\n",
        "    #if the character is already in the list\n",
        "    found = False\n",
        "    for item in char_count:\n",
        "        if item[0] == char:\n",
        "            # If found, increment the count\n",
        "            item[1] += 1\n",
        "            found = True\n",
        "            break\n",
        "\n",
        "    # If not found, add a new entry to the list\n",
        "    if not found:\n",
        "        char_count.append([char, 1])\n",
        "\n",
        "# Displaying the count of each character\n",
        "for item in char_count:\n",
        "    print(item[0] + '=' + str(item[1]) + \", \", end=\"\")"
      ],
      "metadata": {
        "colab": {
          "base_uri": "https://localhost:8080/"
        },
        "id": "C_EP8Ls0UVxn",
        "outputId": "ca46c224-4ff3-43f0-80cb-1c6a0280a4ae"
      },
      "execution_count": 7,
      "outputs": [
        {
          "output_type": "stream",
          "name": "stdout",
          "text": [
            "Enter a string value: assembly\n",
            "a=1, s=2, e=1, m=1, b=1, l=1, y=1, "
          ]
        }
      ]
    },
    {
      "cell_type": "markdown",
      "source": [
        "\n",
        "2) Write a Python function to find the maximum of three numbers Sample\n",
        "input: 34,12,7 Sample output: 34"
      ],
      "metadata": {
        "id": "h7e3SMv_XpbS"
      }
    },
    {
      "cell_type": "code",
      "source": [
        "def find_max(num1, num2, num3):\n",
        "    # Using the max() function to find the maximum of three numbers\n",
        "    max_number = max(num1, num2, num3)\n",
        "    return max_number\n",
        "\n",
        "num1, num2, num3 = int(input(\"Enter the first number: \")), int(input(\"Enter the second number: \")), int(input(\"Enter the third number: \"))\n",
        "\n",
        "# Calling the function\n",
        "result = find_max(num1, num2, num3)\n",
        "print(\"The maximum of \" + str(num1) + \", \" + str(num2) + \", and \" + str(num3) + \" is: \" + str(result))\n"
      ],
      "metadata": {
        "colab": {
          "base_uri": "https://localhost:8080/"
        },
        "id": "RafLMKGdXxH1",
        "outputId": "cbdb6712-9d33-4372-f840-6bf52566b45a"
      },
      "execution_count": 12,
      "outputs": [
        {
          "output_type": "stream",
          "name": "stdout",
          "text": [
            "Enter the first number: 34\n",
            "Enter the second number: 12\n",
            "Enter the third number: 7\n",
            "The maximum of 34, 12, and 7 is: 34\n"
          ]
        }
      ]
    },
    {
      "cell_type": "markdown",
      "source": [
        "\n",
        "3) Write a Python function called exponent(base,exp) that returns an\n",
        "integer value of base raises to the power of exp. Sample input: Enter the\n",
        "base: 2 Enter the exponent: 3 Sample output: 8"
      ],
      "metadata": {
        "id": "J1r_dYrVba4a"
      }
    },
    {
      "cell_type": "code",
      "source": [
        "def exponent(base, exp):\n",
        "    result = base ** exp\n",
        "    return result\n",
        "\n",
        "base = int(input(\"Enter the base: \"))\n",
        "exp = int(input(\"Enter the exponent: \"))\n",
        "\n",
        "output = exponent(base, exp)\n",
        "print(output)\n"
      ],
      "metadata": {
        "colab": {
          "base_uri": "https://localhost:8080/"
        },
        "id": "n7QaVLRqbieM",
        "outputId": "792745c7-6438-4ea8-ba9f-28caa49b090c"
      },
      "execution_count": 13,
      "outputs": [
        {
          "output_type": "stream",
          "name": "stdout",
          "text": [
            "Enter the base: 2\n",
            "Enter the exponent: 3\n",
            "8\n"
          ]
        }
      ]
    },
    {
      "cell_type": "markdown",
      "source": [
        "4) Write a Python function that takes a positive integer and returns the sum\n",
        "of the cube of all the positive integers smaller than the specified number.\n",
        "Sample input: 4 Sample output: 36."
      ],
      "metadata": {
        "id": "_h3ZtO4zcIlN"
      }
    },
    {
      "cell_type": "code",
      "source": [
        "def sum_of_cubes(n):\n",
        "  n = n - 1\n",
        "  sum = 0\n",
        "\n",
        "  while n > 0 :\n",
        "    sum += n * n * n\n",
        "    n = n - 1\n",
        "\n",
        "  return sum\n",
        "\n",
        "num = int(input(\"Enter a positive integer: \"))\n",
        "output = sum_of_cubes(num)\n",
        "print(\"Sum of cubes smaller than the specified number: \", output)"
      ],
      "metadata": {
        "colab": {
          "base_uri": "https://localhost:8080/"
        },
        "id": "O6gUOqV0c9T2",
        "outputId": "8dc631ba-4122-4180-c2ef-a48685f60c2e"
      },
      "execution_count": 15,
      "outputs": [
        {
          "output_type": "stream",
          "name": "stdout",
          "text": [
            "Enter a positive integer: 4\n",
            "Sum of cubes smaller than the specified number:  36\n"
          ]
        }
      ]
    },
    {
      "cell_type": "markdown",
      "source": [
        "5) Write a Python program which iterates from 1 to 10. For multiples of 2,\n",
        "print “Fizz” instead of the number and for the multiples of 5, print “Buzz”.\n",
        "For numbers which are multiples of both 2 and 5, print “FizzBuzz”.\n",
        "Sample input: numbers from 1 to 10 Sample output: 1 Fizz 3 Fizz Buzz\n",
        "Fizz 7 Fizz 9 FizzBuzz"
      ],
      "metadata": {
        "id": "VIzGac9seb-d"
      }
    },
    {
      "cell_type": "code",
      "source": [
        "for num in range(1, 11):\n",
        "    if num % 2 == 0 and num % 5 == 0:\n",
        "        print(\"FizzBuzz\")\n",
        "    elif num % 2 == 0:\n",
        "        print(\"Fizz\")\n",
        "    elif num % 5 == 0:\n",
        "        print(\"Buzz\")\n",
        "    else:\n",
        "        print(num)\n"
      ],
      "metadata": {
        "colab": {
          "base_uri": "https://localhost:8080/"
        },
        "id": "pIiI4b7Ge8bI",
        "outputId": "4c0483ed-9244-4939-8851-a629a336a481"
      },
      "execution_count": 17,
      "outputs": [
        {
          "output_type": "stream",
          "name": "stdout",
          "text": [
            "1\n",
            "Fizz\n",
            "3\n",
            "Fizz\n",
            "Buzz\n",
            "Fizz\n",
            "7\n",
            "Fizz\n",
            "9\n",
            "FizzBuzz\n"
          ]
        }
      ]
    },
    {
      "cell_type": "markdown",
      "source": [
        "6) Write a Python program to find the most frequent item in a list of\n",
        "numbers. Sample input: 2, 3, 4, 2, 5, 2 Sample output: 2"
      ],
      "metadata": {
        "id": "_a6of8dKgDHH"
      }
    },
    {
      "cell_type": "code",
      "source": [
        "def most_frequent(List):\n",
        "    counter = 0\n",
        "    num = List[0]\n",
        "\n",
        "    for i in List:\n",
        "        curr_frequency = List.count(i)\n",
        "        if curr_frequency > counter:\n",
        "            counter = curr_frequency\n",
        "            num = i\n",
        "\n",
        "    return num\n",
        "\n",
        "user_input = (input(\"Enter a list of numbers: \"))\n",
        "numbers = [int(num) for num in user_input.split()]\n",
        "\n",
        "print(\"The most frequent item in the list is:\", most_frequent(numbers))\n"
      ],
      "metadata": {
        "colab": {
          "base_uri": "https://localhost:8080/"
        },
        "id": "R12Gwc4dgITi",
        "outputId": "9b4e6245-94c6-4e65-e086-c92bab0abd12"
      },
      "execution_count": 26,
      "outputs": [
        {
          "output_type": "stream",
          "name": "stdout",
          "text": [
            "Enter a list of numbers: 2 3 4 2 5 2\n",
            "The most frequent item in the list is: 2\n"
          ]
        }
      ]
    },
    {
      "cell_type": "markdown",
      "source": [
        "7) Write a Python program to find the sum of squares of the numbers in a\n",
        "list. Sample input: 2,1,3,1 Sample output: 15"
      ],
      "metadata": {
        "id": "_a8JPKhbkxOu"
      }
    },
    {
      "cell_type": "code",
      "source": [
        "user_input = input(\"Enter a list of numbers : \")\n",
        "test_list = [int(num) for num in user_input.split()]\n",
        "\n",
        "print(\"The original list is : \" + str(test_list))\n",
        "\n",
        "output = sum([i**2 for i in test_list])\n",
        "\n",
        "print(\"The sum of squares of the list is : \" + str(output))"
      ],
      "metadata": {
        "colab": {
          "base_uri": "https://localhost:8080/"
        },
        "id": "31scfBrLlVhK",
        "outputId": "ad4698bc-9c65-4e30-8fa4-bd5376ff78c4"
      },
      "execution_count": 29,
      "outputs": [
        {
          "output_type": "stream",
          "name": "stdout",
          "text": [
            "Enter a list of numbers : 2 1 3 1\n",
            "The original list is : [2, 1, 3, 1]\n",
            "The sum of squares of the list is : 15\n"
          ]
        }
      ]
    },
    {
      "cell_type": "markdown",
      "source": [
        "8) Write a Python program using for loop that will iterate from 1 to 15. For\n",
        "each iteration, check if the current number is odd or even, and display the\n",
        "message to the screen as odd or even. Sample input: 1….15 Sample\n",
        "output: 1-odd 2-even …. 15-odd"
      ],
      "metadata": {
        "id": "VMg_MkFzny3u"
      }
    },
    {
      "cell_type": "code",
      "source": [
        "for num in range(1, 16):\n",
        "    if num % 2 == 0:\n",
        "        print(str(num) + \"-even\")\n",
        "    else:\n",
        "        print(str(num) + \"-odd\")\n"
      ],
      "metadata": {
        "colab": {
          "base_uri": "https://localhost:8080/"
        },
        "id": "-lY8lYyIoF9L",
        "outputId": "064d628e-ad27-453e-fd6e-bff5643d02f0"
      },
      "execution_count": 32,
      "outputs": [
        {
          "output_type": "stream",
          "name": "stdout",
          "text": [
            "1-odd\n",
            "2-even\n",
            "3-odd\n",
            "4-even\n",
            "5-odd\n",
            "6-even\n",
            "7-odd\n",
            "8-even\n",
            "9-odd\n",
            "10-even\n",
            "11-odd\n",
            "12-even\n",
            "13-odd\n",
            "14-even\n",
            "15-odd\n"
          ]
        }
      ]
    },
    {
      "cell_type": "markdown",
      "source": [
        "9) Write a Python program to convert temperatures to and from Celsius\n",
        "Fahrenheit. [Formula: c/5=f-32/9 where c=temperature in Celsius and f=\n",
        "temperature in Fahrenheit.] Sample input: Temperature in Fahrenheit\n",
        "=41 Sample output: Temperature in Celsius =5"
      ],
      "metadata": {
        "id": "vG2UksJko2xm"
      }
    },
    {
      "cell_type": "code",
      "source": [
        "def celsius_to_fahrenheit(c):\n",
        "    return (c * 9/5) + 32\n",
        "\n",
        "def fahrenheit_to_celsius(f):\n",
        "    return (f - 32) * 5/9\n",
        "\n",
        "# Taking input from the user\n",
        "temp_f = float(input(\"Temperature in Fahrenheit: \"))\n",
        "\n",
        "# Converting Fahrenheit to Celsius\n",
        "temp_c = fahrenheit_to_celsius(temp_f)\n",
        "print(\"Temperature in Celsius: \" + \"{:.2f}°C\".format(temp_c))\n",
        "\n",
        "# Taking input from the user\n",
        "temp_c_input = float(input(\"Temperature in Celsius: \"))\n",
        "\n",
        "# Converting Celsius to Fahrenheit\n",
        "temp_f_input = celsius_to_fahrenheit(temp_c_input)\n",
        "print(\"Temperature in Fahrenheit:\" + \"{:.2f}°F\".format(temp_f_input))\n"
      ],
      "metadata": {
        "colab": {
          "base_uri": "https://localhost:8080/"
        },
        "id": "SQsND9mzo_Xu",
        "outputId": "f4118c61-9952-437e-ae65-771a36e08af2"
      },
      "execution_count": 33,
      "outputs": [
        {
          "output_type": "stream",
          "name": "stdout",
          "text": [
            "Temperature in Fahrenheit: 41\n",
            "Temperature in Celsius: 5.00°C\n",
            "Temperature in Celsius: 5\n",
            "Temperature in Fahrenheit:41.00°F\n"
          ]
        }
      ]
    },
    {
      "cell_type": "markdown",
      "source": [
        "10) . Write a Python function to calculate the factorial of a number (a\n",
        "nonnegative integer). The function accepts the number as an argument.\n",
        "Sample input: 3 Sample output: 6"
      ],
      "metadata": {
        "id": "L2TV_jHsuZbT"
      }
    },
    {
      "cell_type": "code",
      "source": [
        "def factorial(n):\n",
        "    if n == 0 :\n",
        "        return 1\n",
        "    else:\n",
        "      return n * factorial(n - 1)\n",
        "n = int(input(\"Enter a nonnegative integer: \"))\n",
        "print(\"The factorial of \"+ str(n)+ \" is:\", factorial(n))"
      ],
      "metadata": {
        "colab": {
          "base_uri": "https://localhost:8080/"
        },
        "id": "2XoMsH4zuYwg",
        "outputId": "d8b544fc-9dea-4852-e48f-505468eeab67"
      },
      "execution_count": 36,
      "outputs": [
        {
          "output_type": "stream",
          "name": "stdout",
          "text": [
            "Enter a nonnegative integer: 3\n",
            "The factorial of 3 is: 6\n"
          ]
        }
      ]
    }
  ]
}